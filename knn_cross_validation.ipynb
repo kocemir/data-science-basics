{
  "nbformat": 4,
  "nbformat_minor": 0,
  "metadata": {
    "colab": {
      "name": "HW2-koc-emirhan",
      "provenance": [],
      "collapsed_sections": []
    },
    "kernelspec": {
      "name": "python3",
      "display_name": "Python 3"
    }
  },
  "cells": [
    {
      "cell_type": "markdown",
      "metadata": {
        "id": "khfvm2ZTbxaF"
      },
      "source": [
        "\n",
        "# Goal\n",
        "\n",
        "The goal of this study is to get familiar feature handling and cross validation.\n",
        "\n",
        "\n",
        "# Dataset\n",
        "\n",
        "German Credit Risk dataset, prepared by Prof. Hoffman, classifies each person as having a good or bad credit risk. The dataset that we use consists of both numerical and categorical features.\n",
        "\n",
        "\n",
        "\n",
        "# Task\n",
        "\n",
        "Build a k-NN classifier with scikit-learn library to classify people as bad or good risks for the german credit dataset. \n",
        "\n",
        "\n"
      ]
    },
    {
      "cell_type": "markdown",
      "metadata": {
        "id": "X9WhAm9Ii-SH"
      },
      "source": [
        "# 1) Initialize\n",
        "\n",
        "First, make a copy of this notebook in your drive"
      ]
    },
    {
      "cell_type": "code",
      "metadata": {
        "id": "V99blGJZ02tQ",
        "outputId": "5f2583c4-dcdd-4f63-bce9-1df6ea78e4a6",
        "colab": {
          "base_uri": "https://localhost:8080/"
        }
      },
      "source": [
        "# Mount to your drive, in this way you can reach files that are in your drive\n",
        "# Run this cell\n",
        "# Go through the link that will be showed below\n",
        "# Select your google drive account and copy authorization code and paste here in output and press enter\n",
        "# You can also follow the steps from that link\n",
        "# https://medium.com/ml-book/simplest-way-to-open-files-from-google-drive-in-google-colab-fae14810674 \n",
        "\n",
        "from google.colab import drive\n",
        "drive.mount('/content/drive')"
      ],
      "execution_count": null,
      "outputs": [
        {
          "output_type": "stream",
          "text": [
            "Mounted at /content/drive\n"
          ],
          "name": "stdout"
        }
      ]
    },
    {
      "cell_type": "markdown",
      "metadata": {
        "id": "fLcZp_XKjp2N"
      },
      "source": [
        "# 2) Load Dataset\n",
        "\n",
        "To start working for your homework, take a copy of the folder, given in the below link to your own google drive. You find the train and test data under this folder.\n",
        "\n",
        "[https://drive.google.com/drive/folders/1DbW6VxLKZv2oqFn9SwxAnVadmn1_nPXi?usp=sharing](https://drive.google.com/drive/folders/1DbW6VxLKZv2oqFn9SwxAnVadmn1_nPXi?usp=sharing)\n",
        "\n",
        "After copy the folder, copy the path of the train and test dataset to paste them in the below cell to load your data.\n"
      ]
    },
    {
      "cell_type": "code",
      "metadata": {
        "id": "jSZvqTSTbsv8"
      },
      "source": [
        "import pandas as pd\n",
        "import numpy as np\n",
        "\n",
        "\n",
        "# Imported test and train data\n",
        "\n",
        "train_df = pd.read_csv('/content/drive/My Drive/Colab Notebooks/HW2/ML2021_HW2/german_credit_train.csv')\n",
        "test_df = pd.read_csv(\"/content/drive/My Drive/Colab Notebooks/HW2/ML2021_HW2/german_credit_test.csv\")\n",
        "\n"
      ],
      "execution_count": null,
      "outputs": []
    },
    {
      "cell_type": "markdown",
      "metadata": {
        "id": "q4PwZVkZkCZQ"
      },
      "source": [
        "# 3) Optional - Analyze the Dataset \n",
        "\n",
        "You can use the functions of the pandas library to analyze your train dataset in detail - **this part is OPTIONAL - look around the data as you wish**.\n",
        "\n",
        "\n",
        "*   Display the number of instances and features in the train ***(shape function can be used)**\n",
        "*   Display 5 random examples from the train ***(sample function can be used)**\n",
        "*   Display the information about each features ***(info method can be used)**\n",
        "\n"
      ]
    },
    {
      "cell_type": "code",
      "metadata": {
        "id": "-XdZUTLqkAw7",
        "outputId": "3407fde1-ee51-44e6-91f5-55254eb63329",
        "colab": {
          "base_uri": "https://localhost:8080/"
        }
      },
      "source": [
        "# Print shape\n",
        "print(\"Train data dimensionality: \", train_df.shape )\n",
        "\n",
        "# Print random 5 rows\n",
        "print(\"Examples from train data:\", train_df.head())\n"
      ],
      "execution_count": null,
      "outputs": [
        {
          "output_type": "stream",
          "text": [
            "Train data dimensionality:  (800, 13)\n",
            "Examples from train data:   AccountStatus  Duration CreditHistory  ...  OtherInstallPlans Housing Risk\n",
            "0           A14        12           A32  ...               A143    A152    1\n",
            "1           A11         9           A32  ...               A143    A152    1\n",
            "2           A11        18           A34  ...               A143    A153    1\n",
            "3           A11        14           A32  ...               A143    A152    2\n",
            "4           A14        15           A32  ...               A143    A152    2\n",
            "\n",
            "[5 rows x 13 columns]\n"
          ],
          "name": "stdout"
        }
      ]
    },
    {
      "cell_type": "code",
      "metadata": {
        "id": "NLL4s7GFsBVJ",
        "outputId": "c6a156e0-81be-421d-c2ff-510c704334fa",
        "colab": {
          "base_uri": "https://localhost:8080/"
        }
      },
      "source": [
        "# Print the information about the dataset\n",
        "print(\"Information about train data :\",train_df.info() )\n"
      ],
      "execution_count": null,
      "outputs": [
        {
          "output_type": "stream",
          "text": [
            "<class 'pandas.core.frame.DataFrame'>\n",
            "RangeIndex: 800 entries, 0 to 799\n",
            "Data columns (total 13 columns):\n",
            " #   Column             Non-Null Count  Dtype \n",
            "---  ------             --------------  ----- \n",
            " 0   AccountStatus      800 non-null    object\n",
            " 1   Duration           800 non-null    int64 \n",
            " 2   CreditHistory      800 non-null    object\n",
            " 3   CreditAmount       800 non-null    int64 \n",
            " 4   SavingsAccount     800 non-null    object\n",
            " 5   EmploymentSince    800 non-null    object\n",
            " 6   PercentOfIncome    800 non-null    int64 \n",
            " 7   PersonalStatus     800 non-null    object\n",
            " 8   Property           800 non-null    object\n",
            " 9   Age                800 non-null    int64 \n",
            " 10  OtherInstallPlans  800 non-null    object\n",
            " 11  Housing            720 non-null    object\n",
            " 12  Risk               800 non-null    int64 \n",
            "dtypes: int64(5), object(8)\n",
            "memory usage: 81.4+ KB\n",
            "Information about train data : None\n"
          ],
          "name": "stdout"
        }
      ]
    },
    {
      "cell_type": "code",
      "metadata": {
        "id": "WAUoFA1t3vBf",
        "outputId": "dab733fe-f178-44ec-fbe9-d6864d3e2264",
        "colab": {
          "base_uri": "https://localhost:8080/",
          "height": 218
        }
      },
      "source": [
        "train_df.head()"
      ],
      "execution_count": null,
      "outputs": [
        {
          "output_type": "execute_result",
          "data": {
            "text/html": [
              "<div>\n",
              "<style scoped>\n",
              "    .dataframe tbody tr th:only-of-type {\n",
              "        vertical-align: middle;\n",
              "    }\n",
              "\n",
              "    .dataframe tbody tr th {\n",
              "        vertical-align: top;\n",
              "    }\n",
              "\n",
              "    .dataframe thead th {\n",
              "        text-align: right;\n",
              "    }\n",
              "</style>\n",
              "<table border=\"1\" class=\"dataframe\">\n",
              "  <thead>\n",
              "    <tr style=\"text-align: right;\">\n",
              "      <th></th>\n",
              "      <th>AccountStatus</th>\n",
              "      <th>Duration</th>\n",
              "      <th>CreditHistory</th>\n",
              "      <th>CreditAmount</th>\n",
              "      <th>SavingsAccount</th>\n",
              "      <th>EmploymentSince</th>\n",
              "      <th>PercentOfIncome</th>\n",
              "      <th>PersonalStatus</th>\n",
              "      <th>Property</th>\n",
              "      <th>Age</th>\n",
              "      <th>OtherInstallPlans</th>\n",
              "      <th>Housing</th>\n",
              "      <th>Risk</th>\n",
              "    </tr>\n",
              "  </thead>\n",
              "  <tbody>\n",
              "    <tr>\n",
              "      <th>0</th>\n",
              "      <td>A14</td>\n",
              "      <td>12</td>\n",
              "      <td>A32</td>\n",
              "      <td>2859</td>\n",
              "      <td>A65</td>\n",
              "      <td>A71</td>\n",
              "      <td>4</td>\n",
              "      <td>A93</td>\n",
              "      <td>A124</td>\n",
              "      <td>38</td>\n",
              "      <td>A143</td>\n",
              "      <td>A152</td>\n",
              "      <td>1</td>\n",
              "    </tr>\n",
              "    <tr>\n",
              "      <th>1</th>\n",
              "      <td>A11</td>\n",
              "      <td>9</td>\n",
              "      <td>A32</td>\n",
              "      <td>2136</td>\n",
              "      <td>A61</td>\n",
              "      <td>A73</td>\n",
              "      <td>3</td>\n",
              "      <td>A93</td>\n",
              "      <td>A121</td>\n",
              "      <td>25</td>\n",
              "      <td>A143</td>\n",
              "      <td>A152</td>\n",
              "      <td>1</td>\n",
              "    </tr>\n",
              "    <tr>\n",
              "      <th>2</th>\n",
              "      <td>A11</td>\n",
              "      <td>18</td>\n",
              "      <td>A34</td>\n",
              "      <td>5302</td>\n",
              "      <td>A61</td>\n",
              "      <td>A75</td>\n",
              "      <td>2</td>\n",
              "      <td>A93</td>\n",
              "      <td>A124</td>\n",
              "      <td>36</td>\n",
              "      <td>A143</td>\n",
              "      <td>A153</td>\n",
              "      <td>1</td>\n",
              "    </tr>\n",
              "    <tr>\n",
              "      <th>3</th>\n",
              "      <td>A11</td>\n",
              "      <td>14</td>\n",
              "      <td>A32</td>\n",
              "      <td>8978</td>\n",
              "      <td>A61</td>\n",
              "      <td>A75</td>\n",
              "      <td>1</td>\n",
              "      <td>A91</td>\n",
              "      <td>A122</td>\n",
              "      <td>45</td>\n",
              "      <td>A143</td>\n",
              "      <td>A152</td>\n",
              "      <td>2</td>\n",
              "    </tr>\n",
              "    <tr>\n",
              "      <th>4</th>\n",
              "      <td>A14</td>\n",
              "      <td>15</td>\n",
              "      <td>A32</td>\n",
              "      <td>4623</td>\n",
              "      <td>A62</td>\n",
              "      <td>A73</td>\n",
              "      <td>3</td>\n",
              "      <td>A93</td>\n",
              "      <td>A122</td>\n",
              "      <td>40</td>\n",
              "      <td>A143</td>\n",
              "      <td>A152</td>\n",
              "      <td>2</td>\n",
              "    </tr>\n",
              "  </tbody>\n",
              "</table>\n",
              "</div>"
            ],
            "text/plain": [
              "  AccountStatus  Duration CreditHistory  ...  OtherInstallPlans Housing Risk\n",
              "0           A14        12           A32  ...               A143    A152    1\n",
              "1           A11         9           A32  ...               A143    A152    1\n",
              "2           A11        18           A34  ...               A143    A153    1\n",
              "3           A11        14           A32  ...               A143    A152    2\n",
              "4           A14        15           A32  ...               A143    A152    2\n",
              "\n",
              "[5 rows x 13 columns]"
            ]
          },
          "metadata": {
            "tags": []
          },
          "execution_count": 6
        }
      ]
    },
    {
      "cell_type": "markdown",
      "metadata": {
        "id": "_yVSSt0mtH0W"
      },
      "source": [
        "# 4) Define your train and test labels\n",
        "\n",
        "*  Define labels for both train and test data in new arrays \n",
        "*  And remove the label column from both train and test sets do tht it is not used as a feature! \n",
        "\n",
        "\n",
        "(**you can use pop method**)\n"
      ]
    },
    {
      "cell_type": "code",
      "metadata": {
        "id": "heg3V6IssehF",
        "outputId": "ca658595-9d83-4bad-e74b-3fb59dbddf06",
        "colab": {
          "base_uri": "https://localhost:8080/",
          "height": 218
        }
      },
      "source": [
        "# Define labels\n",
        "risk_mapping = {1:0,2:1};\n",
        "\n",
        "train_df['Risk'] = train_df['Risk'].replace(risk_mapping)\n",
        "test_df['Risk'] = test_df['Risk'].replace(risk_mapping)\n",
        "\n",
        "train_label = train_df['Risk'];\n",
        "test_label = test_df['Risk']\n",
        "\n",
        "train_df= train_df.drop(['Risk'],axis=1)\n",
        "test_df=test_df.drop(['Risk'],axis=1)\n",
        "\n",
        "train_df.head()"
      ],
      "execution_count": null,
      "outputs": [
        {
          "output_type": "execute_result",
          "data": {
            "text/html": [
              "<div>\n",
              "<style scoped>\n",
              "    .dataframe tbody tr th:only-of-type {\n",
              "        vertical-align: middle;\n",
              "    }\n",
              "\n",
              "    .dataframe tbody tr th {\n",
              "        vertical-align: top;\n",
              "    }\n",
              "\n",
              "    .dataframe thead th {\n",
              "        text-align: right;\n",
              "    }\n",
              "</style>\n",
              "<table border=\"1\" class=\"dataframe\">\n",
              "  <thead>\n",
              "    <tr style=\"text-align: right;\">\n",
              "      <th></th>\n",
              "      <th>AccountStatus</th>\n",
              "      <th>Duration</th>\n",
              "      <th>CreditHistory</th>\n",
              "      <th>CreditAmount</th>\n",
              "      <th>SavingsAccount</th>\n",
              "      <th>EmploymentSince</th>\n",
              "      <th>PercentOfIncome</th>\n",
              "      <th>PersonalStatus</th>\n",
              "      <th>Property</th>\n",
              "      <th>Age</th>\n",
              "      <th>OtherInstallPlans</th>\n",
              "      <th>Housing</th>\n",
              "    </tr>\n",
              "  </thead>\n",
              "  <tbody>\n",
              "    <tr>\n",
              "      <th>0</th>\n",
              "      <td>A14</td>\n",
              "      <td>12</td>\n",
              "      <td>A32</td>\n",
              "      <td>2859</td>\n",
              "      <td>A65</td>\n",
              "      <td>A71</td>\n",
              "      <td>4</td>\n",
              "      <td>A93</td>\n",
              "      <td>A124</td>\n",
              "      <td>38</td>\n",
              "      <td>A143</td>\n",
              "      <td>A152</td>\n",
              "    </tr>\n",
              "    <tr>\n",
              "      <th>1</th>\n",
              "      <td>A11</td>\n",
              "      <td>9</td>\n",
              "      <td>A32</td>\n",
              "      <td>2136</td>\n",
              "      <td>A61</td>\n",
              "      <td>A73</td>\n",
              "      <td>3</td>\n",
              "      <td>A93</td>\n",
              "      <td>A121</td>\n",
              "      <td>25</td>\n",
              "      <td>A143</td>\n",
              "      <td>A152</td>\n",
              "    </tr>\n",
              "    <tr>\n",
              "      <th>2</th>\n",
              "      <td>A11</td>\n",
              "      <td>18</td>\n",
              "      <td>A34</td>\n",
              "      <td>5302</td>\n",
              "      <td>A61</td>\n",
              "      <td>A75</td>\n",
              "      <td>2</td>\n",
              "      <td>A93</td>\n",
              "      <td>A124</td>\n",
              "      <td>36</td>\n",
              "      <td>A143</td>\n",
              "      <td>A153</td>\n",
              "    </tr>\n",
              "    <tr>\n",
              "      <th>3</th>\n",
              "      <td>A11</td>\n",
              "      <td>14</td>\n",
              "      <td>A32</td>\n",
              "      <td>8978</td>\n",
              "      <td>A61</td>\n",
              "      <td>A75</td>\n",
              "      <td>1</td>\n",
              "      <td>A91</td>\n",
              "      <td>A122</td>\n",
              "      <td>45</td>\n",
              "      <td>A143</td>\n",
              "      <td>A152</td>\n",
              "    </tr>\n",
              "    <tr>\n",
              "      <th>4</th>\n",
              "      <td>A14</td>\n",
              "      <td>15</td>\n",
              "      <td>A32</td>\n",
              "      <td>4623</td>\n",
              "      <td>A62</td>\n",
              "      <td>A73</td>\n",
              "      <td>3</td>\n",
              "      <td>A93</td>\n",
              "      <td>A122</td>\n",
              "      <td>40</td>\n",
              "      <td>A143</td>\n",
              "      <td>A152</td>\n",
              "    </tr>\n",
              "  </tbody>\n",
              "</table>\n",
              "</div>"
            ],
            "text/plain": [
              "  AccountStatus  Duration CreditHistory  ...  Age OtherInstallPlans Housing\n",
              "0           A14        12           A32  ...   38              A143    A152\n",
              "1           A11         9           A32  ...   25              A143    A152\n",
              "2           A11        18           A34  ...   36              A143    A153\n",
              "3           A11        14           A32  ...   45              A143    A152\n",
              "4           A14        15           A32  ...   40              A143    A152\n",
              "\n",
              "[5 rows x 12 columns]"
            ]
          },
          "metadata": {
            "tags": []
          },
          "execution_count": 7
        }
      ]
    },
    {
      "cell_type": "code",
      "metadata": {
        "id": "p1xO-YO2yHrv",
        "outputId": "25e46e58-181c-4ddb-a15f-fa2916a90c90",
        "colab": {
          "base_uri": "https://localhost:8080/"
        }
      },
      "source": [
        "train_label.head() # O is bad, 1 is good"
      ],
      "execution_count": null,
      "outputs": [
        {
          "output_type": "execute_result",
          "data": {
            "text/plain": [
              "0    0\n",
              "1    0\n",
              "2    0\n",
              "3    1\n",
              "4    1\n",
              "Name: Risk, dtype: int64"
            ]
          },
          "metadata": {
            "tags": []
          },
          "execution_count": 8
        }
      ]
    },
    {
      "cell_type": "code",
      "metadata": {
        "id": "EDFbyYE0ks_B",
        "outputId": "114108ac-749b-42ac-f7ae-dbf4c8eba371",
        "colab": {
          "base_uri": "https://localhost:8080/",
          "height": 218
        }
      },
      "source": [
        "test_df.head()"
      ],
      "execution_count": null,
      "outputs": [
        {
          "output_type": "execute_result",
          "data": {
            "text/html": [
              "<div>\n",
              "<style scoped>\n",
              "    .dataframe tbody tr th:only-of-type {\n",
              "        vertical-align: middle;\n",
              "    }\n",
              "\n",
              "    .dataframe tbody tr th {\n",
              "        vertical-align: top;\n",
              "    }\n",
              "\n",
              "    .dataframe thead th {\n",
              "        text-align: right;\n",
              "    }\n",
              "</style>\n",
              "<table border=\"1\" class=\"dataframe\">\n",
              "  <thead>\n",
              "    <tr style=\"text-align: right;\">\n",
              "      <th></th>\n",
              "      <th>AccountStatus</th>\n",
              "      <th>Duration</th>\n",
              "      <th>CreditHistory</th>\n",
              "      <th>CreditAmount</th>\n",
              "      <th>SavingsAccount</th>\n",
              "      <th>EmploymentSince</th>\n",
              "      <th>PercentOfIncome</th>\n",
              "      <th>PersonalStatus</th>\n",
              "      <th>Property</th>\n",
              "      <th>Age</th>\n",
              "      <th>OtherInstallPlans</th>\n",
              "      <th>Housing</th>\n",
              "    </tr>\n",
              "  </thead>\n",
              "  <tbody>\n",
              "    <tr>\n",
              "      <th>0</th>\n",
              "      <td>A12</td>\n",
              "      <td>30</td>\n",
              "      <td>A31</td>\n",
              "      <td>3496</td>\n",
              "      <td>A64</td>\n",
              "      <td>A73</td>\n",
              "      <td>4</td>\n",
              "      <td>A93</td>\n",
              "      <td>A123</td>\n",
              "      <td>34</td>\n",
              "      <td>A142</td>\n",
              "      <td>A152</td>\n",
              "    </tr>\n",
              "    <tr>\n",
              "      <th>1</th>\n",
              "      <td>A11</td>\n",
              "      <td>12</td>\n",
              "      <td>A34</td>\n",
              "      <td>3499</td>\n",
              "      <td>A61</td>\n",
              "      <td>A73</td>\n",
              "      <td>3</td>\n",
              "      <td>A92</td>\n",
              "      <td>A121</td>\n",
              "      <td>29</td>\n",
              "      <td>A143</td>\n",
              "      <td>A152</td>\n",
              "    </tr>\n",
              "    <tr>\n",
              "      <th>2</th>\n",
              "      <td>A12</td>\n",
              "      <td>20</td>\n",
              "      <td>A32</td>\n",
              "      <td>6468</td>\n",
              "      <td>A65</td>\n",
              "      <td>A71</td>\n",
              "      <td>1</td>\n",
              "      <td>A91</td>\n",
              "      <td>A121</td>\n",
              "      <td>60</td>\n",
              "      <td>A143</td>\n",
              "      <td>A152</td>\n",
              "    </tr>\n",
              "    <tr>\n",
              "      <th>3</th>\n",
              "      <td>A13</td>\n",
              "      <td>36</td>\n",
              "      <td>A32</td>\n",
              "      <td>5848</td>\n",
              "      <td>A61</td>\n",
              "      <td>A73</td>\n",
              "      <td>4</td>\n",
              "      <td>A93</td>\n",
              "      <td>A123</td>\n",
              "      <td>24</td>\n",
              "      <td>A143</td>\n",
              "      <td>A152</td>\n",
              "    </tr>\n",
              "    <tr>\n",
              "      <th>4</th>\n",
              "      <td>A14</td>\n",
              "      <td>18</td>\n",
              "      <td>A34</td>\n",
              "      <td>1817</td>\n",
              "      <td>A61</td>\n",
              "      <td>A73</td>\n",
              "      <td>4</td>\n",
              "      <td>A92</td>\n",
              "      <td>A124</td>\n",
              "      <td>28</td>\n",
              "      <td>A143</td>\n",
              "      <td>A152</td>\n",
              "    </tr>\n",
              "  </tbody>\n",
              "</table>\n",
              "</div>"
            ],
            "text/plain": [
              "  AccountStatus  Duration CreditHistory  ...  Age OtherInstallPlans Housing\n",
              "0           A12        30           A31  ...   34              A142    A152\n",
              "1           A11        12           A34  ...   29              A143    A152\n",
              "2           A12        20           A32  ...   60              A143    A152\n",
              "3           A13        36           A32  ...   24              A143    A152\n",
              "4           A14        18           A34  ...   28              A143    A152\n",
              "\n",
              "[5 rows x 12 columns]"
            ]
          },
          "metadata": {
            "tags": []
          },
          "execution_count": 9
        }
      ]
    },
    {
      "cell_type": "markdown",
      "metadata": {
        "id": "LGw3v-ai4jTN"
      },
      "source": [
        "# 5) Handle missing values if any \n",
        "\n",
        "*   Print the columns that have **NaN** values (**isnull** method can be used)\n",
        "*   You can impute missing values with mode of that feature or remove samples or attributes\n",
        "*   To impute the test set, you should use the mode values that you obtain from **train** set, as **you should not be looking at your test data to gain any information or advantage.**\n",
        "\n"
      ]
    },
    {
      "cell_type": "code",
      "metadata": {
        "id": "8TNKte7c8EpR",
        "outputId": "eb65e37b-2e56-4bf5-f794-8f62151bf8e1",
        "colab": {
          "base_uri": "https://localhost:8080/"
        }
      },
      "source": [
        "# Print columns with NaN values\n",
        "train_df.isnull().any()"
      ],
      "execution_count": null,
      "outputs": [
        {
          "output_type": "execute_result",
          "data": {
            "text/plain": [
              "AccountStatus        False\n",
              "Duration             False\n",
              "CreditHistory        False\n",
              "CreditAmount         False\n",
              "SavingsAccount       False\n",
              "EmploymentSince      False\n",
              "PercentOfIncome      False\n",
              "PersonalStatus       False\n",
              "Property             False\n",
              "Age                  False\n",
              "OtherInstallPlans    False\n",
              "Housing               True\n",
              "dtype: bool"
            ]
          },
          "metadata": {
            "tags": []
          },
          "execution_count": 10
        }
      ]
    },
    {
      "cell_type": "code",
      "metadata": {
        "id": "-Pi6KlL3b-Yc",
        "outputId": "571f43f6-7039-445d-ad9b-ba41622033c4",
        "colab": {
          "base_uri": "https://localhost:8080/"
        }
      },
      "source": [
        "train_df.isnull().sum()"
      ],
      "execution_count": null,
      "outputs": [
        {
          "output_type": "execute_result",
          "data": {
            "text/plain": [
              "AccountStatus         0\n",
              "Duration              0\n",
              "CreditHistory         0\n",
              "CreditAmount          0\n",
              "SavingsAccount        0\n",
              "EmploymentSince       0\n",
              "PercentOfIncome       0\n",
              "PersonalStatus        0\n",
              "Property              0\n",
              "Age                   0\n",
              "OtherInstallPlans     0\n",
              "Housing              80\n",
              "dtype: int64"
            ]
          },
          "metadata": {
            "tags": []
          },
          "execution_count": 11
        }
      ]
    },
    {
      "cell_type": "code",
      "metadata": {
        "id": "-BM3o7wolZi2",
        "outputId": "0ca806eb-41cf-4d84-bf00-234e667c771e",
        "colab": {
          "base_uri": "https://localhost:8080/"
        }
      },
      "source": [
        "test_df.isnull().sum()"
      ],
      "execution_count": null,
      "outputs": [
        {
          "output_type": "execute_result",
          "data": {
            "text/plain": [
              "AccountStatus         0\n",
              "Duration              0\n",
              "CreditHistory         0\n",
              "CreditAmount          0\n",
              "SavingsAccount        0\n",
              "EmploymentSince       0\n",
              "PercentOfIncome       0\n",
              "PersonalStatus        0\n",
              "Property              0\n",
              "Age                   0\n",
              "OtherInstallPlans     0\n",
              "Housing              20\n",
              "dtype: int64"
            ]
          },
          "metadata": {
            "tags": []
          },
          "execution_count": 11
        }
      ]
    },
    {
      "cell_type": "code",
      "metadata": {
        "id": "Hd6s66xKLEiO",
        "outputId": "644b8054-62b4-4639-d1f4-26b8e12cf196",
        "colab": {
          "base_uri": "https://localhost:8080/"
        }
      },
      "source": [
        "# Impute missing values by replacing with mode value\n",
        "m= train_df['Housing'].mode()\n",
        "m= m[0]\n",
        "print(m)\n",
        "train_df.fillna(m, inplace=True)\n",
        "train_df.isnull().any()"
      ],
      "execution_count": null,
      "outputs": [
        {
          "output_type": "stream",
          "text": [
            "A152\n"
          ],
          "name": "stdout"
        },
        {
          "output_type": "execute_result",
          "data": {
            "text/plain": [
              "AccountStatus        False\n",
              "Duration             False\n",
              "CreditHistory        False\n",
              "CreditAmount         False\n",
              "SavingsAccount       False\n",
              "EmploymentSince      False\n",
              "PercentOfIncome      False\n",
              "PersonalStatus       False\n",
              "Property             False\n",
              "Age                  False\n",
              "OtherInstallPlans    False\n",
              "Housing              False\n",
              "dtype: bool"
            ]
          },
          "metadata": {
            "tags": []
          },
          "execution_count": 12
        }
      ]
    },
    {
      "cell_type": "code",
      "metadata": {
        "id": "4uGuZp_9lgI7",
        "outputId": "7bb379af-026d-45e4-bed8-957cfcaf8efb",
        "colab": {
          "base_uri": "https://localhost:8080/"
        }
      },
      "source": [
        "m= test_df['Housing'].mode()[0]\n",
        "test_df.fillna(m,inplace=True)\n",
        "test_df.isnull().sum()"
      ],
      "execution_count": null,
      "outputs": [
        {
          "output_type": "execute_result",
          "data": {
            "text/plain": [
              "AccountStatus        0\n",
              "Duration             0\n",
              "CreditHistory        0\n",
              "CreditAmount         0\n",
              "SavingsAccount       0\n",
              "EmploymentSince      0\n",
              "PercentOfIncome      0\n",
              "PersonalStatus       0\n",
              "Property             0\n",
              "Age                  0\n",
              "OtherInstallPlans    0\n",
              "Housing              0\n",
              "dtype: int64"
            ]
          },
          "metadata": {
            "tags": []
          },
          "execution_count": 13
        }
      ]
    },
    {
      "cell_type": "code",
      "metadata": {
        "id": "DaoXWckvOy09",
        "outputId": "6e751db7-fec9-4d27-8799-0629e577f520",
        "colab": {
          "base_uri": "https://localhost:8080/"
        }
      },
      "source": [
        "print(train_df)"
      ],
      "execution_count": null,
      "outputs": [
        {
          "output_type": "stream",
          "text": [
            "    AccountStatus  Duration CreditHistory  ...  Age OtherInstallPlans Housing\n",
            "0             A14        12           A32  ...   38              A143    A152\n",
            "1             A11         9           A32  ...   25              A143    A152\n",
            "2             A11        18           A34  ...   36              A143    A153\n",
            "3             A11        14           A32  ...   45              A143    A152\n",
            "4             A14        15           A32  ...   40              A143    A152\n",
            "..            ...       ...           ...  ...  ...               ...     ...\n",
            "795           A12         9           A32  ...   67              A143    A152\n",
            "796           A14        12           A34  ...   26              A143    A152\n",
            "797           A12        36           A32  ...   57              A143    A153\n",
            "798           A12        12           A32  ...   22              A143    A152\n",
            "799           A13         9           A32  ...   28              A143    A152\n",
            "\n",
            "[800 rows x 12 columns]\n"
          ],
          "name": "stdout"
        }
      ]
    },
    {
      "cell_type": "code",
      "metadata": {
        "id": "To5hlQbBmRvV",
        "outputId": "259aa076-7107-4e61-d115-9404e6647a68",
        "colab": {
          "base_uri": "https://localhost:8080/"
        }
      },
      "source": [
        "print(test_df)"
      ],
      "execution_count": null,
      "outputs": [
        {
          "output_type": "stream",
          "text": [
            "    AccountStatus  Duration CreditHistory  ...  Age OtherInstallPlans Housing\n",
            "0             A12        30           A31  ...   34              A142    A152\n",
            "1             A11        12           A34  ...   29              A143    A152\n",
            "2             A12        20           A32  ...   60              A143    A152\n",
            "3             A13        36           A32  ...   24              A143    A152\n",
            "4             A14        18           A34  ...   28              A143    A152\n",
            "..            ...       ...           ...  ...  ...               ...     ...\n",
            "195           A12        27           A33  ...   30              A143    A152\n",
            "196           A11        12           A32  ...   24              A143    A152\n",
            "197           A11        24           A32  ...   20              A143    A152\n",
            "198           A14        21           A32  ...   46              A143    A152\n",
            "199           A11        12           A34  ...   60              A143    A152\n",
            "\n",
            "[200 rows x 12 columns]\n"
          ],
          "name": "stdout"
        }
      ]
    },
    {
      "cell_type": "markdown",
      "metadata": {
        "id": "KkgqFpyr2BrX"
      },
      "source": [
        "# 6) Transform categorical / ordinal features\n",
        "\n",
        "* Transform all categorical / ordinal features using the methods that you have learnt in lectures and recitation 4 for both train and test data\n",
        "* You saw the dictionary use for mapping in recitation. (You can use **replace function** to assign new values to the categories of a column).\n",
        "\n",
        "*  The class of the categorical attributes in the dataset are defined as follows:\n",
        "  - Status of existing checking account\n",
        "     - A11 :      ... <    0 DM\n",
        "\t- A12 : 0 <= ... <  200 DM\n",
        "\t- A13 :      ... >= 200 DM / salary assignments for at least 1 year\n",
        "     - A14 : no checking account\n",
        "\n",
        " - Credit history\n",
        "    - A30 : no credits taken/all credits paid back duly\n",
        "    - A31 : all credits at this bank paid back duly\n",
        "\t- A32 : existing credits paid back duly till now\n",
        "    - A33 : delay in paying off in the past\n",
        "\t- A34 : critical account/other credits existing (not at this bank)\n",
        "\n",
        "  - Savings account\n",
        "    - A61 :          ... <  100 DM\n",
        "\t- A62 :   100 <= ... <  500 DM\n",
        "\t- A63 :   500 <= ... < 1000 DM\n",
        "\t- A64 :          .. >= 1000 DM\n",
        "    - A65 :   unknown/ no savings account\n",
        "\n",
        " - Employment Since\n",
        "    - A71 : unemployed\n",
        "    - A72 :       ... < 1 year\n",
        "\t- A73 : 1  <= ... < 4 years  \n",
        "\t- A74 : 4  <= ... < 7 years\n",
        "\t- A75 :       .. >= 7 years\n",
        " \n",
        " - Personal Status\n",
        "    - A91 : male   : divorced/separated\n",
        "\t- A92 : female : divorced/separated/married\n",
        "    - A93 : male   : single\n",
        "\t- A94 : male   : married/widowed\n",
        "\t- A95 : female : single\n",
        "\n",
        "  - Property\n",
        "     -  A121 : real estate\n",
        "\t- A122 : if not A121 : building society savings agreement/life insurance\n",
        "    - A123 : if not A121/A122 : car or other, not in attribute 6\n",
        "\t- A124 : unknown / no property\n",
        "\n",
        " - OtherInstallPlans  \n",
        "    - A141 : bank\n",
        "\t- A142 : stores\n",
        "\t- A143 : none\n",
        "\n",
        " - Housing\n",
        "    -  A151 : rent\n",
        "\t - A152 : own\n",
        "\t- A153 : for free"
      ]
    },
    {
      "cell_type": "code",
      "metadata": {
        "id": "_QO5rhy97jcY"
      },
      "source": [
        "train_df.drop(columns=['PersonalStatus'],inplace = True)\n",
        "test_df.drop(columns=['PersonalStatus'],inplace = True)"
      ],
      "execution_count": null,
      "outputs": []
    },
    {
      "cell_type": "code",
      "metadata": {
        "id": "Evng6_DyYevs",
        "outputId": "306fba3b-10c2-493f-bbb8-3fe60f55db59",
        "colab": {
          "base_uri": "https://localhost:8080/",
          "height": 218
        }
      },
      "source": [
        "# Transform the categorical / ordinal attributes\n",
        "checkpoint_map = {'A14':0,'A11':1,'A12':2,'A13':3}\n",
        "train_df.replace(checkpoint_map, inplace=True)\n",
        "test_df.replace(checkpoint_map,inplace = True)\n",
        "\n",
        "credit_hist_map = {'A34':-2,'A33':-1,'A30':0.5,'A32':1,'A31':2}\n",
        "train_df.replace(credit_hist_map, inplace=True)\n",
        "test_df.replace(credit_hist_map,inplace = True)\n",
        "\n",
        "\n",
        "\n",
        "save_acc_map = {'A61':1,'A65':0,'A62':2,'A63':3,'A64':4}\n",
        "train_df.replace(save_acc_map, inplace=True)\n",
        "test_df.replace(save_acc_map,inplace = True)\n",
        "\n",
        "\n",
        "employment_map = {'A71':-4,'A72':1,'A73':2,'A74':3,'A75':4}\n",
        "train_df.replace(employment_map, inplace=True)\n",
        "test_df.replace(employment_map,inplace = True)\n",
        "\n",
        "property_map = {'A121':3,'A122':2,'A123':1,'A124':-2}\n",
        "train_df.replace(property_map, inplace=True)\n",
        "test_df.replace(property_map,inplace = True)\n",
        "\n",
        "housing_map ={'A151':0,'A152':3,'A153':1}\n",
        "train_df.replace(housing_map, inplace=True)\n",
        "test_df.replace(housing_map,inplace = True)\n",
        "\n",
        "plans_map = {'A141':'bank','A142':'stores','A143':'none'}\n",
        "train_df.replace(plans_map, inplace=True)\n",
        "test_df.replace(plans_map, inplace = True)\n",
        "\n",
        "dummies_plans = pd.get_dummies(train_df['OtherInstallPlans'],prefix='plans')\n",
        "dummies_plans.head()\n",
        "\n",
        "\n",
        "train_df = pd.merge(train_df ,dummies_plans,left_index=True,right_index=True)\n",
        "train_df = train_df.drop(columns='OtherInstallPlans')\n",
        "train_df.head()\n",
        "\n",
        "dummies_plans = pd.get_dummies(test_df['OtherInstallPlans'],prefix='plans')\n",
        "dummies_plans.head()\n",
        "\n",
        "\n",
        "test_df = pd.merge(test_df ,dummies_plans,left_index=True,right_index=True)\n",
        "test_df = test_df.drop(columns='OtherInstallPlans')\n",
        "test_df.head()"
      ],
      "execution_count": null,
      "outputs": [
        {
          "output_type": "execute_result",
          "data": {
            "text/html": [
              "<div>\n",
              "<style scoped>\n",
              "    .dataframe tbody tr th:only-of-type {\n",
              "        vertical-align: middle;\n",
              "    }\n",
              "\n",
              "    .dataframe tbody tr th {\n",
              "        vertical-align: top;\n",
              "    }\n",
              "\n",
              "    .dataframe thead th {\n",
              "        text-align: right;\n",
              "    }\n",
              "</style>\n",
              "<table border=\"1\" class=\"dataframe\">\n",
              "  <thead>\n",
              "    <tr style=\"text-align: right;\">\n",
              "      <th></th>\n",
              "      <th>AccountStatus</th>\n",
              "      <th>Duration</th>\n",
              "      <th>CreditHistory</th>\n",
              "      <th>CreditAmount</th>\n",
              "      <th>SavingsAccount</th>\n",
              "      <th>EmploymentSince</th>\n",
              "      <th>PercentOfIncome</th>\n",
              "      <th>Property</th>\n",
              "      <th>Age</th>\n",
              "      <th>Housing</th>\n",
              "      <th>plans_bank</th>\n",
              "      <th>plans_none</th>\n",
              "      <th>plans_stores</th>\n",
              "    </tr>\n",
              "  </thead>\n",
              "  <tbody>\n",
              "    <tr>\n",
              "      <th>0</th>\n",
              "      <td>2</td>\n",
              "      <td>30</td>\n",
              "      <td>2.0</td>\n",
              "      <td>3496</td>\n",
              "      <td>4</td>\n",
              "      <td>2</td>\n",
              "      <td>4</td>\n",
              "      <td>1</td>\n",
              "      <td>34</td>\n",
              "      <td>3</td>\n",
              "      <td>0</td>\n",
              "      <td>0</td>\n",
              "      <td>1</td>\n",
              "    </tr>\n",
              "    <tr>\n",
              "      <th>1</th>\n",
              "      <td>1</td>\n",
              "      <td>12</td>\n",
              "      <td>-2.0</td>\n",
              "      <td>3499</td>\n",
              "      <td>1</td>\n",
              "      <td>2</td>\n",
              "      <td>3</td>\n",
              "      <td>3</td>\n",
              "      <td>29</td>\n",
              "      <td>3</td>\n",
              "      <td>0</td>\n",
              "      <td>1</td>\n",
              "      <td>0</td>\n",
              "    </tr>\n",
              "    <tr>\n",
              "      <th>2</th>\n",
              "      <td>2</td>\n",
              "      <td>20</td>\n",
              "      <td>1.0</td>\n",
              "      <td>6468</td>\n",
              "      <td>0</td>\n",
              "      <td>-4</td>\n",
              "      <td>1</td>\n",
              "      <td>3</td>\n",
              "      <td>60</td>\n",
              "      <td>3</td>\n",
              "      <td>0</td>\n",
              "      <td>1</td>\n",
              "      <td>0</td>\n",
              "    </tr>\n",
              "    <tr>\n",
              "      <th>3</th>\n",
              "      <td>3</td>\n",
              "      <td>36</td>\n",
              "      <td>1.0</td>\n",
              "      <td>5848</td>\n",
              "      <td>1</td>\n",
              "      <td>2</td>\n",
              "      <td>4</td>\n",
              "      <td>1</td>\n",
              "      <td>24</td>\n",
              "      <td>3</td>\n",
              "      <td>0</td>\n",
              "      <td>1</td>\n",
              "      <td>0</td>\n",
              "    </tr>\n",
              "    <tr>\n",
              "      <th>4</th>\n",
              "      <td>0</td>\n",
              "      <td>18</td>\n",
              "      <td>-2.0</td>\n",
              "      <td>1817</td>\n",
              "      <td>1</td>\n",
              "      <td>2</td>\n",
              "      <td>4</td>\n",
              "      <td>-2</td>\n",
              "      <td>28</td>\n",
              "      <td>3</td>\n",
              "      <td>0</td>\n",
              "      <td>1</td>\n",
              "      <td>0</td>\n",
              "    </tr>\n",
              "  </tbody>\n",
              "</table>\n",
              "</div>"
            ],
            "text/plain": [
              "   AccountStatus  Duration  CreditHistory  ...  plans_bank  plans_none  plans_stores\n",
              "0              2        30            2.0  ...           0           0             1\n",
              "1              1        12           -2.0  ...           0           1             0\n",
              "2              2        20            1.0  ...           0           1             0\n",
              "3              3        36            1.0  ...           0           1             0\n",
              "4              0        18           -2.0  ...           0           1             0\n",
              "\n",
              "[5 rows x 13 columns]"
            ]
          },
          "metadata": {
            "tags": []
          },
          "execution_count": 17
        }
      ]
    },
    {
      "cell_type": "code",
      "metadata": {
        "id": "HVgELfpj-6gp",
        "outputId": "3a85ec46-5124-49e0-b4ea-8e393e62acc3",
        "colab": {
          "base_uri": "https://localhost:8080/",
          "height": 427
        }
      },
      "source": [
        "train_df"
      ],
      "execution_count": null,
      "outputs": [
        {
          "output_type": "execute_result",
          "data": {
            "text/html": [
              "<div>\n",
              "<style scoped>\n",
              "    .dataframe tbody tr th:only-of-type {\n",
              "        vertical-align: middle;\n",
              "    }\n",
              "\n",
              "    .dataframe tbody tr th {\n",
              "        vertical-align: top;\n",
              "    }\n",
              "\n",
              "    .dataframe thead th {\n",
              "        text-align: right;\n",
              "    }\n",
              "</style>\n",
              "<table border=\"1\" class=\"dataframe\">\n",
              "  <thead>\n",
              "    <tr style=\"text-align: right;\">\n",
              "      <th></th>\n",
              "      <th>AccountStatus</th>\n",
              "      <th>Duration</th>\n",
              "      <th>CreditHistory</th>\n",
              "      <th>CreditAmount</th>\n",
              "      <th>SavingsAccount</th>\n",
              "      <th>EmploymentSince</th>\n",
              "      <th>PercentOfIncome</th>\n",
              "      <th>Property</th>\n",
              "      <th>Age</th>\n",
              "      <th>Housing</th>\n",
              "      <th>plans_bank</th>\n",
              "      <th>plans_none</th>\n",
              "      <th>plans_stores</th>\n",
              "    </tr>\n",
              "  </thead>\n",
              "  <tbody>\n",
              "    <tr>\n",
              "      <th>0</th>\n",
              "      <td>0</td>\n",
              "      <td>12</td>\n",
              "      <td>1.0</td>\n",
              "      <td>2859</td>\n",
              "      <td>0</td>\n",
              "      <td>-4</td>\n",
              "      <td>4</td>\n",
              "      <td>-2</td>\n",
              "      <td>38</td>\n",
              "      <td>3</td>\n",
              "      <td>0</td>\n",
              "      <td>1</td>\n",
              "      <td>0</td>\n",
              "    </tr>\n",
              "    <tr>\n",
              "      <th>1</th>\n",
              "      <td>1</td>\n",
              "      <td>9</td>\n",
              "      <td>1.0</td>\n",
              "      <td>2136</td>\n",
              "      <td>1</td>\n",
              "      <td>2</td>\n",
              "      <td>3</td>\n",
              "      <td>3</td>\n",
              "      <td>25</td>\n",
              "      <td>3</td>\n",
              "      <td>0</td>\n",
              "      <td>1</td>\n",
              "      <td>0</td>\n",
              "    </tr>\n",
              "    <tr>\n",
              "      <th>2</th>\n",
              "      <td>1</td>\n",
              "      <td>18</td>\n",
              "      <td>-2.0</td>\n",
              "      <td>5302</td>\n",
              "      <td>1</td>\n",
              "      <td>4</td>\n",
              "      <td>2</td>\n",
              "      <td>-2</td>\n",
              "      <td>36</td>\n",
              "      <td>1</td>\n",
              "      <td>0</td>\n",
              "      <td>1</td>\n",
              "      <td>0</td>\n",
              "    </tr>\n",
              "    <tr>\n",
              "      <th>3</th>\n",
              "      <td>1</td>\n",
              "      <td>14</td>\n",
              "      <td>1.0</td>\n",
              "      <td>8978</td>\n",
              "      <td>1</td>\n",
              "      <td>4</td>\n",
              "      <td>1</td>\n",
              "      <td>2</td>\n",
              "      <td>45</td>\n",
              "      <td>3</td>\n",
              "      <td>0</td>\n",
              "      <td>1</td>\n",
              "      <td>0</td>\n",
              "    </tr>\n",
              "    <tr>\n",
              "      <th>4</th>\n",
              "      <td>0</td>\n",
              "      <td>15</td>\n",
              "      <td>1.0</td>\n",
              "      <td>4623</td>\n",
              "      <td>2</td>\n",
              "      <td>2</td>\n",
              "      <td>3</td>\n",
              "      <td>2</td>\n",
              "      <td>40</td>\n",
              "      <td>3</td>\n",
              "      <td>0</td>\n",
              "      <td>1</td>\n",
              "      <td>0</td>\n",
              "    </tr>\n",
              "    <tr>\n",
              "      <th>...</th>\n",
              "      <td>...</td>\n",
              "      <td>...</td>\n",
              "      <td>...</td>\n",
              "      <td>...</td>\n",
              "      <td>...</td>\n",
              "      <td>...</td>\n",
              "      <td>...</td>\n",
              "      <td>...</td>\n",
              "      <td>...</td>\n",
              "      <td>...</td>\n",
              "      <td>...</td>\n",
              "      <td>...</td>\n",
              "      <td>...</td>\n",
              "    </tr>\n",
              "    <tr>\n",
              "      <th>795</th>\n",
              "      <td>2</td>\n",
              "      <td>9</td>\n",
              "      <td>1.0</td>\n",
              "      <td>1199</td>\n",
              "      <td>1</td>\n",
              "      <td>3</td>\n",
              "      <td>4</td>\n",
              "      <td>2</td>\n",
              "      <td>67</td>\n",
              "      <td>3</td>\n",
              "      <td>0</td>\n",
              "      <td>1</td>\n",
              "      <td>0</td>\n",
              "    </tr>\n",
              "    <tr>\n",
              "      <th>796</th>\n",
              "      <td>0</td>\n",
              "      <td>12</td>\n",
              "      <td>-2.0</td>\n",
              "      <td>1934</td>\n",
              "      <td>1</td>\n",
              "      <td>4</td>\n",
              "      <td>2</td>\n",
              "      <td>-2</td>\n",
              "      <td>26</td>\n",
              "      <td>3</td>\n",
              "      <td>0</td>\n",
              "      <td>1</td>\n",
              "      <td>0</td>\n",
              "    </tr>\n",
              "    <tr>\n",
              "      <th>797</th>\n",
              "      <td>2</td>\n",
              "      <td>36</td>\n",
              "      <td>1.0</td>\n",
              "      <td>14318</td>\n",
              "      <td>1</td>\n",
              "      <td>4</td>\n",
              "      <td>4</td>\n",
              "      <td>-2</td>\n",
              "      <td>57</td>\n",
              "      <td>1</td>\n",
              "      <td>0</td>\n",
              "      <td>1</td>\n",
              "      <td>0</td>\n",
              "    </tr>\n",
              "    <tr>\n",
              "      <th>798</th>\n",
              "      <td>2</td>\n",
              "      <td>12</td>\n",
              "      <td>1.0</td>\n",
              "      <td>1567</td>\n",
              "      <td>1</td>\n",
              "      <td>2</td>\n",
              "      <td>1</td>\n",
              "      <td>1</td>\n",
              "      <td>22</td>\n",
              "      <td>3</td>\n",
              "      <td>0</td>\n",
              "      <td>1</td>\n",
              "      <td>0</td>\n",
              "    </tr>\n",
              "    <tr>\n",
              "      <th>799</th>\n",
              "      <td>3</td>\n",
              "      <td>9</td>\n",
              "      <td>1.0</td>\n",
              "      <td>745</td>\n",
              "      <td>1</td>\n",
              "      <td>2</td>\n",
              "      <td>3</td>\n",
              "      <td>3</td>\n",
              "      <td>28</td>\n",
              "      <td>3</td>\n",
              "      <td>0</td>\n",
              "      <td>1</td>\n",
              "      <td>0</td>\n",
              "    </tr>\n",
              "  </tbody>\n",
              "</table>\n",
              "<p>800 rows × 13 columns</p>\n",
              "</div>"
            ],
            "text/plain": [
              "     AccountStatus  Duration  ...  plans_none  plans_stores\n",
              "0                0        12  ...           1             0\n",
              "1                1         9  ...           1             0\n",
              "2                1        18  ...           1             0\n",
              "3                1        14  ...           1             0\n",
              "4                0        15  ...           1             0\n",
              "..             ...       ...  ...         ...           ...\n",
              "795              2         9  ...           1             0\n",
              "796              0        12  ...           1             0\n",
              "797              2        36  ...           1             0\n",
              "798              2        12  ...           1             0\n",
              "799              3         9  ...           1             0\n",
              "\n",
              "[800 rows x 13 columns]"
            ]
          },
          "metadata": {
            "tags": []
          },
          "execution_count": 18
        }
      ]
    },
    {
      "cell_type": "code",
      "metadata": {
        "id": "nrWv4jrJ_Iua",
        "outputId": "27d7e1ba-cf64-4e7f-b1b9-6f9867a64927",
        "colab": {
          "base_uri": "https://localhost:8080/",
          "height": 427
        }
      },
      "source": [
        "test_df"
      ],
      "execution_count": null,
      "outputs": [
        {
          "output_type": "execute_result",
          "data": {
            "text/html": [
              "<div>\n",
              "<style scoped>\n",
              "    .dataframe tbody tr th:only-of-type {\n",
              "        vertical-align: middle;\n",
              "    }\n",
              "\n",
              "    .dataframe tbody tr th {\n",
              "        vertical-align: top;\n",
              "    }\n",
              "\n",
              "    .dataframe thead th {\n",
              "        text-align: right;\n",
              "    }\n",
              "</style>\n",
              "<table border=\"1\" class=\"dataframe\">\n",
              "  <thead>\n",
              "    <tr style=\"text-align: right;\">\n",
              "      <th></th>\n",
              "      <th>AccountStatus</th>\n",
              "      <th>Duration</th>\n",
              "      <th>CreditHistory</th>\n",
              "      <th>CreditAmount</th>\n",
              "      <th>SavingsAccount</th>\n",
              "      <th>EmploymentSince</th>\n",
              "      <th>PercentOfIncome</th>\n",
              "      <th>Property</th>\n",
              "      <th>Age</th>\n",
              "      <th>Housing</th>\n",
              "      <th>plans_bank</th>\n",
              "      <th>plans_none</th>\n",
              "      <th>plans_stores</th>\n",
              "    </tr>\n",
              "  </thead>\n",
              "  <tbody>\n",
              "    <tr>\n",
              "      <th>0</th>\n",
              "      <td>2</td>\n",
              "      <td>30</td>\n",
              "      <td>2.0</td>\n",
              "      <td>3496</td>\n",
              "      <td>4</td>\n",
              "      <td>2</td>\n",
              "      <td>4</td>\n",
              "      <td>1</td>\n",
              "      <td>34</td>\n",
              "      <td>3</td>\n",
              "      <td>0</td>\n",
              "      <td>0</td>\n",
              "      <td>1</td>\n",
              "    </tr>\n",
              "    <tr>\n",
              "      <th>1</th>\n",
              "      <td>1</td>\n",
              "      <td>12</td>\n",
              "      <td>-2.0</td>\n",
              "      <td>3499</td>\n",
              "      <td>1</td>\n",
              "      <td>2</td>\n",
              "      <td>3</td>\n",
              "      <td>3</td>\n",
              "      <td>29</td>\n",
              "      <td>3</td>\n",
              "      <td>0</td>\n",
              "      <td>1</td>\n",
              "      <td>0</td>\n",
              "    </tr>\n",
              "    <tr>\n",
              "      <th>2</th>\n",
              "      <td>2</td>\n",
              "      <td>20</td>\n",
              "      <td>1.0</td>\n",
              "      <td>6468</td>\n",
              "      <td>0</td>\n",
              "      <td>-4</td>\n",
              "      <td>1</td>\n",
              "      <td>3</td>\n",
              "      <td>60</td>\n",
              "      <td>3</td>\n",
              "      <td>0</td>\n",
              "      <td>1</td>\n",
              "      <td>0</td>\n",
              "    </tr>\n",
              "    <tr>\n",
              "      <th>3</th>\n",
              "      <td>3</td>\n",
              "      <td>36</td>\n",
              "      <td>1.0</td>\n",
              "      <td>5848</td>\n",
              "      <td>1</td>\n",
              "      <td>2</td>\n",
              "      <td>4</td>\n",
              "      <td>1</td>\n",
              "      <td>24</td>\n",
              "      <td>3</td>\n",
              "      <td>0</td>\n",
              "      <td>1</td>\n",
              "      <td>0</td>\n",
              "    </tr>\n",
              "    <tr>\n",
              "      <th>4</th>\n",
              "      <td>0</td>\n",
              "      <td>18</td>\n",
              "      <td>-2.0</td>\n",
              "      <td>1817</td>\n",
              "      <td>1</td>\n",
              "      <td>2</td>\n",
              "      <td>4</td>\n",
              "      <td>-2</td>\n",
              "      <td>28</td>\n",
              "      <td>3</td>\n",
              "      <td>0</td>\n",
              "      <td>1</td>\n",
              "      <td>0</td>\n",
              "    </tr>\n",
              "    <tr>\n",
              "      <th>...</th>\n",
              "      <td>...</td>\n",
              "      <td>...</td>\n",
              "      <td>...</td>\n",
              "      <td>...</td>\n",
              "      <td>...</td>\n",
              "      <td>...</td>\n",
              "      <td>...</td>\n",
              "      <td>...</td>\n",
              "      <td>...</td>\n",
              "      <td>...</td>\n",
              "      <td>...</td>\n",
              "      <td>...</td>\n",
              "      <td>...</td>\n",
              "    </tr>\n",
              "    <tr>\n",
              "      <th>195</th>\n",
              "      <td>2</td>\n",
              "      <td>27</td>\n",
              "      <td>-1.0</td>\n",
              "      <td>5965</td>\n",
              "      <td>1</td>\n",
              "      <td>4</td>\n",
              "      <td>1</td>\n",
              "      <td>1</td>\n",
              "      <td>30</td>\n",
              "      <td>3</td>\n",
              "      <td>0</td>\n",
              "      <td>1</td>\n",
              "      <td>0</td>\n",
              "    </tr>\n",
              "    <tr>\n",
              "      <th>196</th>\n",
              "      <td>1</td>\n",
              "      <td>12</td>\n",
              "      <td>1.0</td>\n",
              "      <td>1228</td>\n",
              "      <td>1</td>\n",
              "      <td>2</td>\n",
              "      <td>4</td>\n",
              "      <td>3</td>\n",
              "      <td>24</td>\n",
              "      <td>3</td>\n",
              "      <td>0</td>\n",
              "      <td>1</td>\n",
              "      <td>0</td>\n",
              "    </tr>\n",
              "    <tr>\n",
              "      <th>197</th>\n",
              "      <td>1</td>\n",
              "      <td>24</td>\n",
              "      <td>1.0</td>\n",
              "      <td>2996</td>\n",
              "      <td>0</td>\n",
              "      <td>2</td>\n",
              "      <td>2</td>\n",
              "      <td>1</td>\n",
              "      <td>20</td>\n",
              "      <td>3</td>\n",
              "      <td>0</td>\n",
              "      <td>1</td>\n",
              "      <td>0</td>\n",
              "    </tr>\n",
              "    <tr>\n",
              "      <th>198</th>\n",
              "      <td>0</td>\n",
              "      <td>21</td>\n",
              "      <td>1.0</td>\n",
              "      <td>2476</td>\n",
              "      <td>0</td>\n",
              "      <td>4</td>\n",
              "      <td>4</td>\n",
              "      <td>3</td>\n",
              "      <td>46</td>\n",
              "      <td>3</td>\n",
              "      <td>0</td>\n",
              "      <td>1</td>\n",
              "      <td>0</td>\n",
              "    </tr>\n",
              "    <tr>\n",
              "      <th>199</th>\n",
              "      <td>1</td>\n",
              "      <td>12</td>\n",
              "      <td>-2.0</td>\n",
              "      <td>2246</td>\n",
              "      <td>1</td>\n",
              "      <td>4</td>\n",
              "      <td>3</td>\n",
              "      <td>2</td>\n",
              "      <td>60</td>\n",
              "      <td>3</td>\n",
              "      <td>0</td>\n",
              "      <td>1</td>\n",
              "      <td>0</td>\n",
              "    </tr>\n",
              "  </tbody>\n",
              "</table>\n",
              "<p>200 rows × 13 columns</p>\n",
              "</div>"
            ],
            "text/plain": [
              "     AccountStatus  Duration  ...  plans_none  plans_stores\n",
              "0                2        30  ...           0             1\n",
              "1                1        12  ...           1             0\n",
              "2                2        20  ...           1             0\n",
              "3                3        36  ...           1             0\n",
              "4                0        18  ...           1             0\n",
              "..             ...       ...  ...         ...           ...\n",
              "195              2        27  ...           1             0\n",
              "196              1        12  ...           1             0\n",
              "197              1        24  ...           1             0\n",
              "198              0        21  ...           1             0\n",
              "199              1        12  ...           1             0\n",
              "\n",
              "[200 rows x 13 columns]"
            ]
          },
          "metadata": {
            "tags": []
          },
          "execution_count": 19
        }
      ]
    },
    {
      "cell_type": "markdown",
      "metadata": {
        "id": "eVcTCh9-AnFv"
      },
      "source": [
        "# 7) Build a k-NN classifier on training data and perform models selection using 5 fold cross validation\n",
        "\n",
        "*  Initialize k-NN classifiers with **k= 5, 10, 15**\n",
        "*  Calculate the cross validation scores using cross_al_score method, number of folds is 5. \n",
        "*  Note: Xval is performed on training data! Do not use test data in any way and do not separate a hold-out validation set, rather use cross-validation.\n",
        "\n",
        "Documentation of the cross_val_score method:\n",
        "\n",
        "[https://scikit-learn.org/stable/modules/generated/sklearn.model_selection.cross_val_score.html#sklearn.model_selection.cross_val_score](https://scikit-learn.org/stable/modules/generated/sklearn.model_selection.cross_val_score.html#sklearn.model_selection.cross_val_score)\n",
        "\n",
        "*  Stores the average accuracies of these folds\n",
        "*  Select the value of k using the cross validation results. "
      ]
    },
    {
      "cell_type": "code",
      "metadata": {
        "id": "ficAs0W52b8r",
        "outputId": "072232ab-3404-43cb-ad66-b21a8f38859a",
        "colab": {
          "base_uri": "https://localhost:8080/"
        }
      },
      "source": [
        "from sklearn.neighbors import KNeighborsClassifier\n",
        "from sklearn.model_selection import cross_val_score\n",
        "from statistics import mean\n",
        "\n",
        "# k values\n",
        "kVals = [5,10,15]\n",
        "\n",
        "# Save the accuracies of each value of kVal in [accuracies] variable\n",
        "accuracies = []\n",
        "\n",
        "# Loop over values of k for the k-Nearest Neighbor classifier\n",
        "for k in kVals:\n",
        "  # Initialize a k-NN classifier with k neighbors\n",
        "   neigh = KNeighborsClassifier(n_neighbors=k)\n",
        "\n",
        "  # Calculate the 5 fold cross validation scores using cross_val_score\n",
        "  # cv parameter: number of folds, in our case it must be 5\n",
        "   scores = cross_val_score(neigh, train_df, train_label, cv=5)\n",
        "   accuracies.append(mean(scores))\n",
        "\n",
        "  # Stores the average accuracies of the scores in accuracies variable, you can use mean method\n",
        "\n",
        "\n",
        "print(accuracies)"
      ],
      "execution_count": null,
      "outputs": [
        {
          "output_type": "stream",
          "text": [
            "[0.6775, 0.70875, 0.71]\n"
          ],
          "name": "stdout"
        }
      ]
    },
    {
      "cell_type": "markdown",
      "metadata": {
        "id": "_t4ss1Ixglor"
      },
      "source": [
        "# 8) Retrain using all training data and test on test set\n",
        "\n",
        "* Train a classifier with the chosen k value of the best classifier using **all training data**. \n",
        "\n",
        "Note:  k-NN training involves no explicit training, but this is what we would do after model selection with decision trees or any other ML approach (we had 5 diff. models -one for each fold - for each k in the previous step - dont know which one to submit. Even if we picked the best one, it does not use all training samples.\n",
        "\n",
        "* Predict the labels of testing data \n",
        "\n",
        "* Report the accuracy "
      ]
    },
    {
      "cell_type": "code",
      "metadata": {
        "id": "qjNs9MzoPOkd"
      },
      "source": [
        ""
      ],
      "execution_count": null,
      "outputs": []
    },
    {
      "cell_type": "code",
      "metadata": {
        "id": "Qi3pfvaBKTcg",
        "outputId": "25ed6b6e-693d-47aa-b82b-2404b54e6978",
        "colab": {
          "base_uri": "https://localhost:8080/"
        }
      },
      "source": [
        "from sklearn.metrics import accuracy_score\n",
        "\n",
        "# Train the best classifier using all training set\n",
        "neigh = KNeighborsClassifier(n_neighbors=15)\n",
        "neigh.fit(train_df, train_label)\n",
        "\n",
        "test_predict= neigh.predict(test_df)\n",
        "print('Test score for the best model:', accuracy_score(test_predict ,test_label))\n",
        "# Print accuracy of test data\n",
        "\n"
      ],
      "execution_count": null,
      "outputs": [
        {
          "output_type": "stream",
          "text": [
            "Test score for the best model: 0.665\n"
          ],
          "name": "stdout"
        }
      ]
    },
    {
      "cell_type": "markdown",
      "metadata": {
        "id": "N4ZCEjEXiMGi"
      },
      "source": [
        "# 9) Bonus (5pts)\n",
        "\n",
        "There is a limited bonus for any extra work that you may use and improve the above results. \n",
        "\n",
        "You may try a larger k values, scale input features, remove some features, .... Please **do not overdo**, maybe spend another 30-60min on this. The idea is not do an exhaustive search (which wont help your understanding of ML process), but just to give some extra points to those who may look at the problem a little more comprehensively. \n",
        "\n",
        "**If you obtain better results than the above, please indicate the best model you have found and the corresponding accuracy.**\n",
        "\n",
        "E.g. using feature normalization ..... and removing .... features and using a value k=...., I have obtained ....% accuracy.\n"
      ]
    },
    {
      "cell_type": "code",
      "metadata": {
        "id": "eTnB4ZMviQGV",
        "outputId": "617d5edc-2a12-442b-cc7b-7a247c902099",
        "colab": {
          "base_uri": "https://localhost:8080/"
        }
      },
      "source": [
        " from sklearn.preprocessing import StandardScaler\n",
        " \n",
        " # Used standart scaler to scale my data to 0 mean and unit variance\n",
        " scaler= StandardScaler()\n",
        " train_df_copy = pd.DataFrame(scaler.fit_transform(train_df),columns=train_df.columns)\n",
        " test_df_copy = pd.DataFrame(scaler.fit_transform(test_df),columns=test_df.columns)\n",
        "\n",
        "\n",
        "from sklearn.metrics import accuracy_score\n",
        "\n",
        "\n",
        "neigh = KNeighborsClassifier(n_neighbors=15)\n",
        "neigh.fit(train_df_copy, train_label)\n",
        "\n",
        "test_predict= neigh.predict(test_df_copy)\n",
        "print('Test score for the best model:', accuracy_score(test_predict ,test_label))\n",
        "# Print accuracy of test data\n",
        "\n"
      ],
      "execution_count": null,
      "outputs": [
        {
          "output_type": "stream",
          "text": [
            "Test score for the best model: 0.695\n"
          ],
          "name": "stdout"
        }
      ]
    },
    {
      "cell_type": "markdown",
      "metadata": {
        "id": "X1XDlwIpfO2t"
      },
      "source": [
        "REPORT\n",
        "\n",
        "In this homework, we are asked a create a model to classify each person\n",
        "as risky or not to deserve credit from a bank. I used German Credit Risk \n",
        "datasets to train my model and test afterwards. As a classification method \n",
        "I used k-Nearest Neighbors algorthim with cross validation. \n",
        "Firsty, I seperated labels from train and test datas and mapped 2 to 1, and 1 to 0 simulatanouly which 0 is risky but 1 is not risky. Afterward, I converted categorical features to numerical features. I converted most of them according to order if it is possible. I looked at the data and labels, then decided to numerical values of features for ordering. For instance, some of the time, I di not give straightforward values such as 0 1 2 3. Instead, I gave weights for some cases. For instance, if the person has been working for 7+ years, I gave much more weight or has not been working yet, I gave negative weights. Also, I discarded personal statues as it does not affect much compared to other features. \n",
        "In training part, I used 3 different k values for KNN. I obtained accuracies such [0.6775, 0.70875, 0.71] respectively for k 5 10 15. As it is seen, I obtained slightly better accuracy. When I tested my model with k = 15, I obtained the accuracy 0.665. \n",
        "\n",
        "For bonus part, I scaled all the features to 0 mean and unit variance. When I test my data with, I obtained % 69.5 accuracy."
      ]
    }
  ]
}